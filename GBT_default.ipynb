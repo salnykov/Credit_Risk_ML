{
 "cells": [
  {
   "cell_type": "markdown",
   "metadata": {},
   "source": [
    "<a id=\"top\"></a>\n",
    "# Gradient Boosted Trees model for default prediction (proof of concept)\n",
    "Mykhaylo Salnykov <br>\n",
    "v. 1.5<br>\n",
    "Created: 19-10-2019<br>\n",
    "Last modified: 20-12-2019<br>\n",
    "<br>\n",
    "This code is designed to establish business case on using predictive analytics' Gradient Boosted Tree (GBT) machine learning tool to predict defaults.<br>\n",
    "<br>\n",
    "This code demonstrates superior performance of GBT model as compared to Logistic Regression model both in terms of model metrics and using the Business Case <br>\n",
    "<br>\n",
    "The case shows that an un-tuned model allows to reach an estimated 110% net profit increase on the test sample as compared to current decision making approach and 50% increase increase in case of Logistic Regression.<br>\n",
    "<br>\n",
    "This proof of concept is prepared on the Client's request to explore potential of using Python-based machine learning models to predict loan defaults and uses open masked data. Any similarities to any Client's real data set are purely accidental.<br>\n",
    "<br>\n",
    "<b>Jump directly to</b><br>\n",
    "[Data Load and Cleanup](#Data-Load-and-Cleanup)<br>\n",
    "[GBT Model Run](#GBT-model-run)<br>\n",
    "[Model Results](#Model-results)<br>\n",
    "[Business Case](#Business-case)"
   ]
  },
  {
   "cell_type": "markdown",
   "metadata": {},
   "source": [
    "[[to top]](#top)<br><br>\n",
    "\n",
    "<h2><a id=\"Data-Load-and-Cleanup\">Data Load and Cleanup</a></h2><br>\n"
   ]
  },
  {
   "cell_type": "code",
   "execution_count": 1,
   "metadata": {},
   "outputs": [
    {
     "name": "stdout",
     "output_type": "stream",
     "text": [
      "CSV file with 32581 rows imported\n",
      "4011 data instances for 3943 entries is missing\n",
      "\n",
      "Original data\n",
      "\n",
      "                               Type      N  Missing      Avg      Med     Min         Max\n",
      "person_age                    int64  32581        0     27.7     26.0    20.0       144.0\n",
      "person_income                 int64  32581        0 66,074.8 55,000.0 4,000.0 6,000,000.0\n",
      "person_home_ownership        object  32581        0                                      \n",
      "person_emp_length           float64  31686      895      4.8      4.0     0.0       123.0\n",
      "loan_intent                  object  32581        0                                      \n",
      "loan_grade                   object  32581        0                                      \n",
      "loan_amnt                     int64  32581        0  9,589.4  8,000.0   500.0    35,000.0\n",
      "loan_int_rate               float64  29465     3116     11.0     11.0     5.4        23.2\n",
      "loan_status                   int64  32581        0      0.2      0.0     0.0         1.0\n",
      "loan_percent_income         float64  32581        0      0.2      0.1     0.0         0.8\n",
      "cb_person_default_on_file    object  32581        0                                      \n",
      "cb_person_cred_hist_length    int64  32581        0      5.8      4.0     2.0        30.0\n",
      "\n"
     ]
    }
   ],
   "source": [
    "import pandas as pd\n",
    "import numpy as np\n",
    "\n",
    "from csv_import import data #this is raw data\n",
    "from csv_import import descriptive #this is function giving descriptive statistics of the dataframe\n",
    "\n",
    "# Display information about the dataframe and missing values\n",
    "print('CSV file with {} rows imported'.format(data.shape[0]))\n",
    "print('{} data instances for {} entries is missing'.\n",
    "      format(data.isnull().sum().sum(),\n",
    "             data[data.isnull().any(axis=1)].shape[0]))\n",
    "print('')\n",
    "print ('Original data')\n",
    "print('')\n",
    "print (descriptive(data))\n",
    "print('')"
   ]
  },
  {
   "cell_type": "markdown",
   "metadata": {},
   "source": [
    "This dataset has three problems:\n",
    "\n",
    "1. person_age and person_emp_length has some obvious outliers as max(person_age)=144 and max(person_emp_length)=123. These are possibly due to incorrectly entered data and must be studied\n",
    "2. person_emp_length and loan_int_rate contains missing values. Missing values negativly affect performance of the models and must be cleaned\n",
    "3. some data are object type. We need to convert it to dummies for GBT model."
   ]
  },
  {
   "cell_type": "code",
   "execution_count": 2,
   "metadata": {},
   "outputs": [
    {
     "data": {
      "image/png": "[encoded data removed]",
      "text/plain": [
       "<Figure size 432x288 with 1 Axes>"
      ]
     },
     "metadata": {
      "needs_background": "light"
     },
     "output_type": "display_data"
    }
   ],
   "source": [
    "import matplotlib.pyplot as plt\n",
    "\n",
    "# Study scatter of person_age and person_emp_length because it may contain identifiable outliers\n",
    "plt.scatter(data['person_age'], data['person_emp_length'], c='blue', alpha=0.5)\n",
    "plt.xlabel(\"Person Age\")\n",
    "plt.ylabel(\"Person Employment Length\")\n",
    "\n",
    "# It is highly unlikely that a borrower has work experience above 60 years or age above 100 years. Hence, observations\n",
    "# with values above these will be considered outliers\n",
    "plt.axvline(x=100, color='red')\n",
    "plt.axhline(y=60, color='red')\n",
    "plt.show()"
   ]
  },
  {
   "cell_type": "code",
   "execution_count": 3,
   "metadata": {},
   "outputs": [
    {
     "name": "stdout",
     "output_type": "stream",
     "text": [
      "Dataset free from obvious outliers\n",
      "\n",
      "                               Type      N  Missing      Avg      Med     Min         Max\n",
      "person_age                    int64  32574        0     27.7     26.0    20.0        94.0\n",
      "person_income                 int64  32574        0 65,878.5 55,000.0 4,000.0 2,039,784.0\n",
      "person_home_ownership        object  32574        0                                      \n",
      "person_emp_length           float64  31679      895      4.8      4.0     0.0        41.0\n",
      "loan_intent                  object  32574        0                                      \n",
      "loan_grade                   object  32574        0                                      \n",
      "loan_amnt                     int64  32574        0  9,588.0  8,000.0   500.0    35,000.0\n",
      "loan_int_rate               float64  29459     3115     11.0     11.0     5.4        23.2\n",
      "loan_status                   int64  32574        0      0.2      0.0     0.0         1.0\n",
      "loan_percent_income         float64  32574        0      0.2      0.1     0.0         0.8\n",
      "cb_person_default_on_file    object  32574        0                                      \n",
      "cb_person_cred_hist_length    int64  32574        0      5.8      4.0     2.0        30.0\n",
      "\n"
     ]
    }
   ],
   "source": [
    "# Remove obvious outliers: max_age=100, max_emp_length=60\n",
    "max_age=100\n",
    "max_emp_length=60\n",
    "indices=data.query('person_age>{} or person_emp_length>{}'.format(max_age, max_emp_length)).index.tolist()\n",
    "data_clean = data.drop(indices)\n",
    "print ('Dataset free from obvious outliers')\n",
    "print('')\n",
    "print (descriptive(data_clean))\n",
    "print('')"
   ]
  },
  {
   "cell_type": "code",
   "execution_count": 4,
   "metadata": {},
   "outputs": [
    {
     "name": "stdout",
     "output_type": "stream",
     "text": [
      "Dataset free from obvious outliers and missing values\n",
      "\n",
      "                               Type      N  Missing      Avg      Med     Min         Max\n",
      "person_age                    int64  29459        0     27.7     26.0    20.0        84.0\n",
      "person_income                 int64  29459        0 65,803.7 55,000.0 4,000.0 2,039,784.0\n",
      "person_home_ownership        object  29459        0                                      \n",
      "person_emp_length           float64  29459        0      4.8      4.0     0.0        41.0\n",
      "loan_intent                  object  29459        0                                      \n",
      "loan_grade                   object  29459        0                                      \n",
      "loan_amnt                     int64  29459        0  9,583.6  8,000.0   500.0    35,000.0\n",
      "loan_int_rate               float64  29459        0     11.0     11.0     5.4        23.2\n",
      "loan_status                   int64  29459        0      0.2      0.0     0.0         1.0\n",
      "loan_percent_income         float64  29459        0      0.2      0.1     0.0         0.8\n",
      "cb_person_default_on_file    object  29459        0                                      \n",
      "cb_person_cred_hist_length    int64  29459        0      5.8      4.0     2.0        30.0\n",
      "\n"
     ]
    }
   ],
   "source": [
    "# Remove rows with missing interest rate data\n",
    "indices=data_clean[data_clean['loan_int_rate'].isnull()].index\n",
    "data_clean = data_clean.drop(indices)\n",
    "\n",
    "# Replace missing data on employment length with median values\n",
    "data_clean['person_emp_length']\\\n",
    ".fillna((data_clean['person_emp_length'].median()),inplace=True)\n",
    "\n",
    "print ('Dataset free from obvious outliers and missing values')\n",
    "print('')\n",
    "print (descriptive(data_clean))\n",
    "print('')"
   ]
  },
  {
   "cell_type": "code",
   "execution_count": 14,
   "metadata": {},
   "outputs": [
    {
     "name": "stdout",
     "output_type": "stream",
     "text": [
      "                                   Type      N  Missing      Avg      Med     Min         Max\n",
      "person_age                        int64  29459        0     27.7     26.0    20.0        84.0\n",
      "person_income                     int64  29459        0 65,803.7 55,000.0 4,000.0 2,039,784.0\n",
      "person_emp_length               float64  29459        0      4.8      4.0     0.0        41.0\n",
      "loan_amnt                         int64  29459        0  9,583.6  8,000.0   500.0    35,000.0\n",
      "loan_int_rate                   float64  29459        0     11.0     11.0     5.4        23.2\n",
      "loan_status                       int64  29459        0      0.2      0.0     0.0         1.0\n",
      "loan_percent_income             float64  29459        0      0.2      0.1     0.0         0.8\n",
      "cb_person_cred_hist_length        int64  29459        0      5.8      4.0     2.0        30.0\n",
      "person_home_ownership_MORTGAGE    uint8  29459        0      0.4      0.0     0.0         1.0\n",
      "person_home_ownership_OTHER       uint8  29459        0      0.0      0.0     0.0         1.0\n",
      "person_home_ownership_OWN         uint8  29459        0      0.1      0.0     0.0         1.0\n",
      "person_home_ownership_RENT        uint8  29459        0      0.5      1.0     0.0         1.0\n",
      "loan_intent_DEBTCONSOLIDATION     uint8  29459        0      0.2      0.0     0.0         1.0\n",
      "loan_intent_EDUCATION             uint8  29459        0      0.2      0.0     0.0         1.0\n",
      "loan_intent_HOMEIMPROVEMENT       uint8  29459        0      0.1      0.0     0.0         1.0\n",
      "loan_intent_MEDICAL               uint8  29459        0      0.2      0.0     0.0         1.0\n",
      "loan_intent_PERSONAL              uint8  29459        0      0.2      0.0     0.0         1.0\n",
      "loan_intent_VENTURE               uint8  29459        0      0.2      0.0     0.0         1.0\n",
      "loan_grade_A                      uint8  29459        0      0.3      0.0     0.0         1.0\n",
      "loan_grade_B                      uint8  29459        0      0.3      0.0     0.0         1.0\n",
      "loan_grade_C                      uint8  29459        0      0.2      0.0     0.0         1.0\n",
      "loan_grade_D                      uint8  29459        0      0.1      0.0     0.0         1.0\n",
      "loan_grade_E                      uint8  29459        0      0.0      0.0     0.0         1.0\n",
      "loan_grade_F                      uint8  29459        0      0.0      0.0     0.0         1.0\n",
      "loan_grade_G                      uint8  29459        0      0.0      0.0     0.0         1.0\n",
      "cb_person_default_on_file_N       uint8  29459        0      0.8      1.0     0.0         1.0\n",
      "cb_person_default_on_file_Y       uint8  29459        0      0.2      0.0     0.0         1.0\n"
     ]
    }
   ],
   "source": [
    "#use one-hot encoding to create dummy variables based on object data\n",
    "from logregression import dummied_data #this fuction recodes object variables into dummies\n",
    "print(descriptive(dummied_data(data_clean)))"
   ]
  },
  {
   "cell_type": "markdown",
   "metadata": {},
   "source": [
    "[[to top]](#top)<br><br>\n",
    "<h2><a id=\"GBT-model-run\">GBT Model Run</a></h2><br>\n",
    "\n",
    "Now data looks ok. \n",
    "Let us start training GBT model.\n",
    "We start with dividing clean data set on train and test data in 3:2 proportion with split seed=121 and using 'loan_status' as a target variable"
   ]
  },
  {
   "cell_type": "code",
   "execution_count": 6,
   "metadata": {},
   "outputs": [
    {
     "name": "stdout",
     "output_type": "stream",
     "text": [
      "Training set:\n",
      "Size = 17675\n",
      "Default ratio = 0.22\n",
      "\n",
      "Test set:\n",
      "Size = 11784\n",
      "Default ratio = 0.22\n"
     ]
    }
   ],
   "source": [
    "from data_cleanup import split_data\n",
    "X_train, X_test, y_train, y_test=split_data(dummied_data(data_clean), 'loan_status')\n",
    "print('Training set:')\n",
    "print('Size = {}'.format(y_train['loan_status'].count()))\n",
    "print('Default ratio = {:.2f}'.format(y_train['loan_status'].mean()))\n",
    "print('')\n",
    "print('Test set:')\n",
    "print('Size = {}'.format(y_test['loan_status'].count()))\n",
    "print('Default ratio = {:.2f}'.format(y_test['loan_status'].mean()))"
   ]
  },
  {
   "cell_type": "markdown",
   "metadata": {},
   "source": [
    "Training and test sets seem fair sized and provide identical default ratio. Let us run the GBT model on the training set\n"
   ]
  },
  {
   "cell_type": "code",
   "execution_count": 7,
   "metadata": {},
   "outputs": [],
   "source": [
    "import xgboost as xgb\n",
    "\n",
    "gbtm=xgb.XGBClassifier().fit(X_train, np.ravel(y_train))\n",
    "\n",
    "gbtm_preds=gbtm.predict(X_test)"
   ]
  },
  {
   "cell_type": "markdown",
   "metadata": {},
   "source": [
    "[[to top]](#top)<br>\n",
    "<h2><a id=\"Model-results\">Model results</a></h2><br>\n",
    "Let us analyze performance of the model"
   ]
  },
  {
   "cell_type": "code",
   "execution_count": 8,
   "metadata": {},
   "outputs": [
    {
     "name": "stdout",
     "output_type": "stream",
     "text": [
      "              precision    recall  f1-score   support\n",
      "\n",
      " Non-Default       0.93      0.99      0.96      9229\n",
      "     Default       0.94      0.75      0.83      2555\n",
      "\n",
      "    accuracy                           0.93     11784\n",
      "   macro avg       0.94      0.87      0.90     11784\n",
      "weighted avg       0.93      0.93      0.93     11784\n",
      "\n",
      "Mean accuracy score is 0.9347\n"
     ]
    }
   ],
   "source": [
    "from sklearn.metrics import classification_report\n",
    "\n",
    "target_names=['Non-Default', 'Default']\n",
    "print(classification_report(y_test, gbtm_preds, target_names=target_names))\n",
    "\n",
    "#Calculate accuracy of the model\n",
    "print('Mean accuracy score is {:.4f}'.format(gbtm.score(X_test,y_test)))"
   ]
  },
  {
   "cell_type": "markdown",
   "metadata": {},
   "source": [
    "Recall and accuracy scores are compared very favourably to the results of the logistic regression:\n",
    "\n",
    " Non-Default Recall 0.92<br>\n",
    " Default Recall 0.62\n",
    "\n",
    "Mean accuracy score  0.8043\n",
    "\n",
    "Let us measure AUROC of the GBT model"
   ]
  },
  {
   "cell_type": "code",
   "execution_count": 9,
   "metadata": {},
   "outputs": [
    {
     "data": {
      "image/png": "[encoded data removed]",
      "text/plain": [
       "<Figure size 432x288 with 1 Axes>"
      ]
     },
     "metadata": {
      "needs_background": "light"
     },
     "output_type": "display_data"
    },
    {
     "name": "stdout",
     "output_type": "stream",
     "text": [
      "AUROC score is 0.8671\n"
     ]
    }
   ],
   "source": [
    "from logregression import roc_auroc #this function draws ROC curve and returns AUROC value\n",
    "\n",
    "# Draw ROC curve\n",
    "print('AUROC score is {:.4f}'. format(roc_auroc(gbtm_preds,y_test)))"
   ]
  },
  {
   "cell_type": "markdown",
   "metadata": {},
   "source": [
    "Note that GBT model provides a superior AUROC score compared to Logistic Regression model.\n",
    "\n",
    "Let us investigate importance of each variable for explaining default risk"
   ]
  },
  {
   "cell_type": "code",
   "execution_count": 10,
   "metadata": {},
   "outputs": [
    {
     "data": {
      "image/png": "[encoded data removed]",
      "text/plain": [
       "<Figure size 432x288 with 1 Axes>"
      ]
     },
     "metadata": {
      "needs_background": "light"
     },
     "output_type": "display_data"
    },
    {
     "name": "stdout",
     "output_type": "stream",
     "text": [
      "('person_income', 775)\n",
      "('loan_int_rate', 493)\n",
      "('loan_amnt', 335)\n",
      "('loan_percent_income', 287)\n",
      "('person_age', 286)\n",
      "('person_emp_length', 247)\n",
      "('cb_person_cred_hist_length', 154)\n",
      "('loan_intent_MEDICAL', 74)\n",
      "('person_home_ownership_RENT', 60)\n",
      "('loan_grade_D', 57)\n",
      "('person_home_ownership_OWN', 47)\n",
      "('loan_grade_C', 46)\n",
      "('loan_intent_DEBTCONSOLIDATION', 46)\n",
      "('loan_intent_HOMEIMPROVEMENT', 44)\n",
      "('person_home_ownership_MORTGAGE', 42)\n",
      "('loan_intent_EDUCATION', 40)\n",
      "('cb_person_default_on_file_N', 35)\n",
      "('loan_intent_VENTURE', 30)\n",
      "('loan_intent_PERSONAL', 27)\n",
      "('loan_grade_B', 25)\n",
      "('loan_grade_E', 20)\n",
      "('loan_grade_G', 11)\n",
      "('loan_grade_F', 6)\n",
      "('person_home_ownership_OTHER', 4)\n",
      "('loan_grade_A', 2)\n",
      "100\n"
     ]
    }
   ],
   "source": [
    "weights=sorted(gbtm.get_booster().get_score(importance_type=\"weight\").items(), key=lambda x: x[1], reverse=True)\n",
    "xgb.plot_importance(gbtm, importance_type='weight')\n",
    "plt.show()\n",
    "for item in weights: print(item)\n",
    "\n",
    "print(len(gbtm.get_booster().get_dump()))"
   ]
  },
  {
   "cell_type": "markdown",
   "metadata": {},
   "source": [
    "The analysis above suggests that \n",
    "<br>\n",
    "person_income,loan_int_rate, loan_amnt, loan_percent_income, person_age, person_emp_length and cb_person_cred_hist_length<br>\n",
    "are by far the most important factors explaining probability of default."
   ]
  },
  {
   "cell_type": "markdown",
   "metadata": {},
   "source": [
    "Compare perfromance of the initial model to the reduced model where only top-7 explanatory variables are used."
   ]
  },
  {
   "cell_type": "code",
   "execution_count": 11,
   "metadata": {},
   "outputs": [
    {
     "name": "stdout",
     "output_type": "stream",
     "text": [
      "              precision    recall  f1-score   support\n",
      "\n",
      " Non-Default       0.90      0.94      0.92      9229\n",
      "     Default       0.75      0.64      0.69      2555\n",
      "\n",
      "    accuracy                           0.88     11784\n",
      "   macro avg       0.83      0.79      0.81     11784\n",
      "weighted avg       0.87      0.88      0.87     11784\n",
      "\n",
      "Mean accuracy score is 0.8766\n"
     ]
    }
   ],
   "source": [
    "X_train1=pd.concat([X_train['person_income'], X_train['loan_int_rate'],X_train['loan_amnt'], \n",
    "                    X_train['loan_percent_income'],X_train['person_age'], X_train['person_emp_length'],\n",
    "                   X_train['cb_person_cred_hist_length']],axis=1)\n",
    "\n",
    "X_test1=pd.concat([X_test['person_income'], X_test['loan_int_rate'],X_test['loan_amnt'], \n",
    "                    X_test['loan_percent_income'],X_test['person_age'], X_test['person_emp_length'],\n",
    "                   X_test['cb_person_cred_hist_length']],axis=1)\n",
    "\n",
    "gbtm1=xgb.XGBClassifier().fit(X_train1, np.ravel(y_train))\n",
    "\n",
    "gbtm1_preds=gbtm1.predict(X_test1)\n",
    "\n",
    "target_names=['Non-Default', 'Default']\n",
    "print(classification_report(y_test, gbtm1_preds, target_names=target_names))\n",
    "\n",
    "#Calculate accuracy of the model\n",
    "print('Mean accuracy score is {:.4f}'.format(gbtm1.score(X_test1,y_test)))"
   ]
  },
  {
   "cell_type": "markdown",
   "metadata": {},
   "source": [
    "Notably, when all explanatory variables is used accuracy is improved by 0.06 and Default f1-score is improved by 0.14.\n",
    "Therefore, we will use full model for the following business case study."
   ]
  },
  {
   "cell_type": "markdown",
   "metadata": {},
   "source": [
    "[[to top]](#top)<br>\n",
    "<h2><a id=\"Business-case\">Business Case</a></h2><br>\n",
    "Let us use GBT model to run a simple cost-benefit analysis. Since loan duration data is not available in the sample, let us assume that all loans have maturity of 10 years. Assume also that the future discounts at 2%\n",
    "\n",
    "First let us calculate gains and losses from doing nothing. As such, assume that all non-default loans in the test sample will be ammortized equally over 10 years and a corresponding interest will be paid on the outstanding amount. Assume further that all defaulted loans in the test sample default immediately and no debt is recovered."
   ]
  },
  {
   "cell_type": "code",
   "execution_count": 12,
   "metadata": {},
   "outputs": [
    {
     "name": "stdout",
     "output_type": "stream",
     "text": [
      "Expected net profit without model-induced decision-making is 19.7M\n"
     ]
    }
   ],
   "source": [
    "X_test1=X_test.reset_index()\n",
    "y_test1=y_test.reset_index()\n",
    "data_test=pd.concat([X_test1,y_test1],axis=1)\n",
    "\n",
    "def revenue(amt, loan_int):\n",
    "    revenue=0\n",
    "    for i in range(10):\n",
    "        revenue+=(1-i/10)*amt*loan_int*0.01/(1.02**i)\n",
    "    return(revenue)\n",
    "\n",
    "data_test['revenue']=-data_test['loan_amnt']*data_test['loan_status']\\\n",
    "+(1-data_test['loan_status'])*revenue(data_test['loan_amnt'], data_test['loan_int_rate'])\n",
    "\n",
    "print('Expected net profit without model-induced decision-making is {:.1f}M'\n",
    "      .format(0.000001*data_test['revenue'].sum()))"
   ]
  },
  {
   "cell_type": "markdown",
   "metadata": {},
   "source": [
    "Hence, if a predictive model is not used, a firm wil make 19.6M profit if it approves all the loans.\n",
    "\n",
    "Suppose we apply model based on the threshold of 0.27.\n",
    "There are three possible outcomes depicted by the following tree:\n",
    "\n",
    "Loan is approved? YES Creditor defaults? YES Loan amount is lost<br>\n",
    "Loan is approved? YES Creditor defaults? NO Interest revenue received<br>\n",
    "Loan is approved? NO Zero revenue is received<br>\n",
    "                    \n",
    "Loan is approved if no default is expected (predicted probability of default is less that threshold) and is rejected otherwise.\n",
    "Creditor defaults if true 'loan_status' is 1 and does not default otherwise.\n",
    "\n",
    "Let us model this on the test data"
   ]
  },
  {
   "cell_type": "code",
   "execution_count": 13,
   "metadata": {},
   "outputs": [
    {
     "name": "stdout",
     "output_type": "stream",
     "text": [
      "Expected net profit with GBT model-induced decision-making is 41.1M\n"
     ]
    }
   ],
   "source": [
    "df=pd.concat([data_test['revenue'].reset_index(drop=True),\n",
    "              pd.DataFrame(gbtm_preds, columns=['pred_loan_status'])],axis=1)\n",
    "\n",
    "print('Expected net profit with GBT model-induced decision-making is {:.1f}M'\n",
    "      .format(0.000001*((1-df['pred_loan_status'])*df['revenue']).sum()))"
   ]
  },
  {
   "cell_type": "markdown",
   "metadata": {},
   "source": [
    "GBT model allowed more than doubling profit on the test sample, which is favourably compared with the Logistic model performance which allowed for a maximum of 29.4M net profit.<br>\n",
    "[[to top]](#top)<br><br>"
   ]
  }
 ],
 "metadata": {
  "kernelspec": {
   "display_name": "Python 3",
   "language": "python",
   "name": "python3"
  },
  "language_info": {
   "codemirror_mode": {
    "name": "ipython",
    "version": 3
   },
   "file_extension": ".py",
   "mimetype": "text/x-python",
   "name": "python",
   "nbconvert_exporter": "python",
   "pygments_lexer": "ipython3",
   "version": "3.7.6"
  }
 },
 "nbformat": 4,
 "nbformat_minor": 4
}
