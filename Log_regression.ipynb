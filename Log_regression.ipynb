{
 "cells": [
  {
   "cell_type": "markdown",
   "metadata": {},
   "source": [
    "# Logistic regression for default (proof of concept)<a class=\"anchor\" id=\"top\"></a>\n",
    "Mykhaylo Salnykov <br>\n",
    "v. 1.4<br>\n",
    "Created: 11-10-2019<br>\n",
    "Last modified: 14-08-2020<br>\n",
    "<br>\n",
    "This code is designed to establish business case on using predictive analytics' logistic regression machine learning tool to predict defaults.<br>\n",
    "<br>\n",
    "This code demonstrates tradeoff between default recall (being able to correctly identify true defaults) and nondefault recall (being able to identify true nondefaults) in logistic regression models by changing threshold value (i.e. a the highest acceptable predicted probability of default. <br>\n",
    "<br>\n",
    "The case shows that an un-tuned model allows to reach an estimated 25% net profit increase on the test sample as compared to current decision making approach. A properly tuned model allows to reach an increase on net profit of 50% on test data.<br>\n",
    "<br>\n",
    "This proof of concept is prepared on the Client's request to explore potential of using Python-based machine learning models to predict loan defaults and uses open masked data. Any similarities to any Client's real data set are purely accidental.<br>\n",
    "### TOC:\n",
    "* [Data Load and Cleanup](#data-load)\n",
    "* [Model Run](#model-run)\n",
    "* [Model Results and Graphs](#results)\n",
    "* [Business Case](#business-case)"
   ]
  },
  {
   "cell_type": "markdown",
   "metadata": {},
   "source": [
    "## Data Load and Cleanup <a class=\"anchor\" id=\"data-load\"></a>"
   ]
  },
  {
   "cell_type": "code",
   "execution_count": 1,
   "metadata": {},
   "outputs": [
    {
     "name": "stdout",
     "output_type": "stream",
     "text": [
      "CSV file with 32581 rows imported\n",
      "4011 data instances for 3943 entries is missing\n",
      "\n",
      "Original data\n",
      "\n",
      "                               Type      N  Missing      Avg      Med     Min         Max\n",
      "person_age                    int64  32581        0     27.7     26.0    20.0       144.0\n",
      "person_income                 int64  32581        0 66,074.8 55,000.0 4,000.0 6,000,000.0\n",
      "person_home_ownership        object  32581        0                                      \n",
      "person_emp_length           float64  31686      895      4.8      4.0     0.0       123.0\n",
      "loan_intent                  object  32581        0                                      \n",
      "loan_grade                   object  32581        0                                      \n",
      "loan_amnt                     int64  32581        0  9,589.4  8,000.0   500.0    35,000.0\n",
      "loan_int_rate               float64  29465     3116     11.0     11.0     5.4        23.2\n",
      "loan_status                   int64  32581        0      0.2      0.0     0.0         1.0\n",
      "loan_percent_income         float64  32581        0      0.2      0.1     0.0         0.8\n",
      "cb_person_default_on_file    object  32581        0                                      \n",
      "cb_person_cred_hist_length    int64  32581        0      5.8      4.0     2.0        30.0\n",
      "\n"
     ]
    }
   ],
   "source": [
    "import pandas as pd\n",
    "import numpy as np\n",
    "\n",
    "from csv_import import data #this is raw data\n",
    "from csv_import import descriptive #this is function giving descriptive statistics of the dataframe\n",
    "\n",
    "# Display information about the dataframe and missing values\n",
    "print('CSV file with {} rows imported'.format(data.shape[0]))\n",
    "print('{} data instances for {} entries is missing'.\n",
    "      format(data.isnull().sum().sum(),\n",
    "             data[data.isnull().any(axis=1)].shape[0]))\n",
    "print('')\n",
    "print ('Original data')\n",
    "print('')\n",
    "print (descriptive(data))\n",
    "print('')"
   ]
  },
  {
   "cell_type": "markdown",
   "metadata": {},
   "source": [
    "This dataset has three problems:\n",
    "1. person_age and person_emp_length has some obvious outliers as max(person_age)=144 and max(person_emp_length)=123. These are possibly due to incorrectly entered data and must be studied\n",
    "2. person_emp_length and loan_int_rate contains missing values. Missing values negativly affect performance of the models and must be cleaned\n",
    "3. some data are object type. We need to convert it to dummies for logistic regression."
   ]
  },
  {
   "cell_type": "code",
   "execution_count": 3,
   "metadata": {},
   "outputs": [
    {
     "data": {
      "image/png": "[encoded data removed]",
      "text/plain": [
       "<Figure size 432x288 with 1 Axes>"
      ]
     },
     "metadata": {
      "needs_background": "light"
     },
     "output_type": "display_data"
    }
   ],
   "source": [
    "import matplotlib.pyplot as plt\n",
    "\n",
    "# Study scatter of person_age and person_emp_length because it may contain identifiable outliers\n",
    "plt.scatter(data['person_age'], data['person_emp_length'], c='blue', alpha=0.5)\n",
    "plt.xlabel(\"Person Age\")\n",
    "plt.ylabel(\"Person Employment Length\")\n",
    "\n",
    "# It is highly unlikely that a borrower has work experience above 60 years or age above 100 years. Hence, observations\n",
    "# with values above these will be considered outliers\n",
    "plt.axvline(x=100, color='red')\n",
    "plt.axhline(y=60, color='red')\n",
    "plt.show()"
   ]
  },
  {
   "cell_type": "code",
   "execution_count": 5,
   "metadata": {},
   "outputs": [
    {
     "name": "stdout",
     "output_type": "stream",
     "text": [
      "Dataset free from obvious outliers\n",
      "\n",
      "                               Type      N  Missing      Avg      Med     Min         Max\n",
      "person_age                    int64  32574        0     27.7     26.0    20.0        94.0\n",
      "person_income                 int64  32574        0 65,878.5 55,000.0 4,000.0 2,039,784.0\n",
      "person_home_ownership        object  32574        0                                      \n",
      "person_emp_length           float64  31679      895      4.8      4.0     0.0        41.0\n",
      "loan_intent                  object  32574        0                                      \n",
      "loan_grade                   object  32574        0                                      \n",
      "loan_amnt                     int64  32574        0  9,588.0  8,000.0   500.0    35,000.0\n",
      "loan_int_rate               float64  29459     3115     11.0     11.0     5.4        23.2\n",
      "loan_status                   int64  32574        0      0.2      0.0     0.0         1.0\n",
      "loan_percent_income         float64  32574        0      0.2      0.1     0.0         0.8\n",
      "cb_person_default_on_file    object  32574        0                                      \n",
      "cb_person_cred_hist_length    int64  32574        0      5.8      4.0     2.0        30.0\n",
      "\n"
     ]
    }
   ],
   "source": [
    "# Remove obvious outliers: max_age=100, max_emp_length=60\n",
    "max_age=100\n",
    "max_emp_length=60\n",
    "indices=data.query('person_age>{} or person_emp_length>{}'.format(max_age, max_emp_length)).index.tolist()\n",
    "data_clean = data.drop(indices)\n",
    "print ('Dataset free from obvious outliers')\n",
    "print('')\n",
    "print (descriptive(data_clean))\n",
    "print('')"
   ]
  },
  {
   "cell_type": "code",
   "execution_count": 7,
   "metadata": {},
   "outputs": [
    {
     "name": "stdout",
     "output_type": "stream",
     "text": [
      "Dataset free from obvious outliers and missing values\n",
      "\n",
      "                               Type      N  Missing      Avg      Med     Min         Max\n",
      "person_age                    int64  29459        0     27.7     26.0    20.0        84.0\n",
      "person_income                 int64  29459        0 65,803.7 55,000.0 4,000.0 2,039,784.0\n",
      "person_home_ownership        object  29459        0                                      \n",
      "person_emp_length           float64  29459        0      4.8      4.0     0.0        41.0\n",
      "loan_intent                  object  29459        0                                      \n",
      "loan_grade                   object  29459        0                                      \n",
      "loan_amnt                     int64  29459        0  9,583.6  8,000.0   500.0    35,000.0\n",
      "loan_int_rate               float64  29459        0     11.0     11.0     5.4        23.2\n",
      "loan_status                   int64  29459        0      0.2      0.0     0.0         1.0\n",
      "loan_percent_income         float64  29459        0      0.2      0.1     0.0         0.8\n",
      "cb_person_default_on_file    object  29459        0                                      \n",
      "cb_person_cred_hist_length    int64  29459        0      5.8      4.0     2.0        30.0\n",
      "\n"
     ]
    }
   ],
   "source": [
    "# Remove rows with missing interest rate data\n",
    "indices=data_clean[data_clean['loan_int_rate'].isnull()].index\n",
    "data_clean = data_clean.drop(indices)\n",
    "\n",
    "# Replace missing data on employment length with median values\n",
    "data_clean['person_emp_length']\\\n",
    ".fillna((data_clean['person_emp_length'].median()),inplace=True)\n",
    "\n",
    "print ('Dataset free from obvious outliers and missing values')\n",
    "print('')\n",
    "print (descriptive(data_clean))\n",
    "print('')"
   ]
  },
  {
   "cell_type": "code",
   "execution_count": 9,
   "metadata": {},
   "outputs": [
    {
     "name": "stdout",
     "output_type": "stream",
     "text": [
      "                                   Type      N  Missing      Avg      Med     Min         Max\n",
      "person_age                        int64  29459        0     27.7     26.0    20.0        84.0\n",
      "person_income                     int64  29459        0 65,803.7 55,000.0 4,000.0 2,039,784.0\n",
      "person_emp_length               float64  29459        0      4.8      4.0     0.0        41.0\n",
      "loan_amnt                         int64  29459        0  9,583.6  8,000.0   500.0    35,000.0\n",
      "loan_int_rate                   float64  29459        0     11.0     11.0     5.4        23.2\n",
      "loan_status                       int64  29459        0      0.2      0.0     0.0         1.0\n",
      "loan_percent_income             float64  29459        0      0.2      0.1     0.0         0.8\n",
      "cb_person_cred_hist_length        int64  29459        0      5.8      4.0     2.0        30.0\n",
      "person_home_ownership_MORTGAGE    uint8  29459        0      0.4      0.0     0.0         1.0\n",
      "person_home_ownership_OTHER       uint8  29459        0      0.0      0.0     0.0         1.0\n",
      "person_home_ownership_OWN         uint8  29459        0      0.1      0.0     0.0         1.0\n",
      "person_home_ownership_RENT        uint8  29459        0      0.5      1.0     0.0         1.0\n",
      "loan_intent_DEBTCONSOLIDATION     uint8  29459        0      0.2      0.0     0.0         1.0\n",
      "loan_intent_EDUCATION             uint8  29459        0      0.2      0.0     0.0         1.0\n",
      "loan_intent_HOMEIMPROVEMENT       uint8  29459        0      0.1      0.0     0.0         1.0\n",
      "loan_intent_MEDICAL               uint8  29459        0      0.2      0.0     0.0         1.0\n",
      "loan_intent_PERSONAL              uint8  29459        0      0.2      0.0     0.0         1.0\n",
      "loan_intent_VENTURE               uint8  29459        0      0.2      0.0     0.0         1.0\n",
      "loan_grade_A                      uint8  29459        0      0.3      0.0     0.0         1.0\n",
      "loan_grade_B                      uint8  29459        0      0.3      0.0     0.0         1.0\n",
      "loan_grade_C                      uint8  29459        0      0.2      0.0     0.0         1.0\n",
      "loan_grade_D                      uint8  29459        0      0.1      0.0     0.0         1.0\n",
      "loan_grade_E                      uint8  29459        0      0.0      0.0     0.0         1.0\n",
      "loan_grade_F                      uint8  29459        0      0.0      0.0     0.0         1.0\n",
      "loan_grade_G                      uint8  29459        0      0.0      0.0     0.0         1.0\n",
      "cb_person_default_on_file_N       uint8  29459        0      0.8      1.0     0.0         1.0\n",
      "cb_person_default_on_file_Y       uint8  29459        0      0.2      0.0     0.0         1.0\n"
     ]
    }
   ],
   "source": [
    "#use one-hot encoding to create dummy variables based on object data\n",
    "from logregression import dummied_data #this fuction recodes object variables into dummies\n",
    "print(descriptive(dummied_data(data_clean)))"
   ]
  },
  {
   "cell_type": "markdown",
   "metadata": {},
   "source": [
    "[[to top]](#top)<br>"
   ]
  },
  {
   "cell_type": "markdown",
   "metadata": {},
   "source": [
    "## Model Run <a class=\"anchor\" id=\"model-run\"></a>\n",
    "Now data looks ok. \n",
    "Let us start training logistic regression.\n",
    "We start with dividing clean data set on train and test data in 3:2 proportion with split seed=121 and using 'loan_status' as a target variable."
   ]
  },
  {
   "cell_type": "code",
   "execution_count": 10,
   "metadata": {},
   "outputs": [
    {
     "name": "stdout",
     "output_type": "stream",
     "text": [
      "Training set:\n",
      "Size = 17675\n",
      "Default ratio = 0.22\n",
      "\n",
      "Test set:\n",
      "Size = 11784\n",
      "Default ratio = 0.22\n"
     ]
    }
   ],
   "source": [
    "from data_cleanup import split_data\n",
    "X_train, X_test, y_train, y_test=split_data(dummied_data(data_clean), 'loan_status')\n",
    "print('Training set:')\n",
    "print('Size = {}'.format(y_train['loan_status'].count()))\n",
    "print('Default ratio = {:.2f}'.format(y_train['loan_status'].mean()))\n",
    "print('')\n",
    "print('Test set:')\n",
    "print('Size = {}'.format(y_test['loan_status'].count()))\n",
    "print('Default ratio = {:.2f}'.format(y_test['loan_status'].mean()))"
   ]
  },
  {
   "cell_type": "markdown",
   "metadata": {},
   "source": [
    "Training and test sets seem fair sized and provide identical default ratio.\n",
    "Let us run the model on the training set, predict default values and study classification report using 0.4 threshold"
   ]
  },
  {
   "cell_type": "code",
   "execution_count": 11,
   "metadata": {},
   "outputs": [],
   "source": [
    "from logregression import log_df_model #this function runs logistical regression on the data\n",
    "from logregression import predict #this function predicts default outcome based on model and threshold \n",
    "from logregression import class_rep #this function returns classfication report\n",
    "\n",
    "# Run default logistic default model on train data\n",
    "ldm=log_df_model(X_train, y_train)  \n",
    "      \n",
    "#Run prediction based on the model\n",
    "threshold=0.4\n",
    "preds_df=predict(ldm,X_test,threshold) "
   ]
  },
  {
   "cell_type": "markdown",
   "metadata": {},
   "source": [
    "[[to top]](#top)"
   ]
  },
  {
   "cell_type": "markdown",
   "metadata": {},
   "source": [
    "## Model Results and Graphs <a class=\"anchor\" id=\"results\"></a>"
   ]
  },
  {
   "cell_type": "code",
   "execution_count": 12,
   "metadata": {},
   "outputs": [
    {
     "name": "stdout",
     "output_type": "stream",
     "text": [
      "Threshold=0.4\n",
      "              precision    recall  f1-score   support\n",
      "\n",
      " Non-Default       0.86      0.92      0.89      9229\n",
      "     Default       0.62      0.45      0.52      2555\n",
      "\n",
      "    accuracy                           0.82     11784\n",
      "   macro avg       0.74      0.69      0.71     11784\n",
      "weighted avg       0.81      0.82      0.81     11784\n",
      "\n",
      "Mean accuracy score is 0.8043\n"
     ]
    }
   ],
   "source": [
    "# Print the classification report\n",
    "print('Threshold={}'.format(threshold))\n",
    "print(class_rep(preds_df, y_test))\n",
    "\n",
    "#Calculate accuracy of the model\n",
    "print('Mean accuracy score is {:.4f}'.format(ldm.score(X_test,y_test)))"
   ]
  },
  {
   "cell_type": "markdown",
   "metadata": {},
   "source": [
    "AUROC is one of the important measures of default model performance. AUROC close to 1 indicate perfect fit. AUROC close to 0 indicate the model is as good as guessing"
   ]
  },
  {
   "cell_type": "code",
   "execution_count": 13,
   "metadata": {},
   "outputs": [
    {
     "data": {
      "image/png": "[encoded data removed]",
      "text/plain": [
       "<Figure size 432x288 with 1 Axes>"
      ]
     },
     "metadata": {
      "needs_background": "light"
     },
     "output_type": "display_data"
    },
    {
     "name": "stdout",
     "output_type": "stream",
     "text": [
      "AUROC score is 0.7601\n"
     ]
    }
   ],
   "source": [
    "from logregression import roc_auroc #this function draws ROC curve and returns AUROC value\n",
    "\n",
    "# Draw ROC curve\n",
    "print('AUROC score is {:.4f}'. format(roc_auroc(preds_df['prob_default'],y_test)))"
   ]
  },
  {
   "cell_type": "markdown",
   "metadata": {},
   "source": [
    "AUROC score of 0.76 is not great, but is not disasterous. Classification report, however, indicate the main problem of this model: low Default recall of 0.45. In other word, under threshold of 0.4 the model correctly predicts 0.92 non-defaults, but only 0.45 defaults.\n",
    "\n",
    "Generally, there is a tradeoff between non-default and default recall and lowering threshold will improve the latter, but deteriorate the former.\n",
    "\n",
    "Let us investigate the tradeoff between these two and accuracy dependence on the threshold."
   ]
  },
  {
   "cell_type": "code",
   "execution_count": 34,
   "metadata": {},
   "outputs": [
    {
     "name": "stdout",
     "output_type": "stream",
     "text": [
      "100\n"
     ]
    }
   ],
   "source": [
    "from sklearn.metrics import precision_recall_fscore_support\n",
    "\n",
    "trsh=[]\n",
    "acc=[]\n",
    "df_recall=[]\n",
    "ndf_recall=[]\n",
    "eq_i=-1 \n",
    "\n",
    "for i in range(100,0,-1):\n",
    "    trsh.append(i/100) \n",
    "    loan_status = preds_df['prob_default'].apply(lambda x: 1 if x > i/100 else 0)\n",
    "    scores=precision_recall_fscore_support(y_test,loan_status)\n",
    "    df_recall.append(scores[1][1])\n",
    "    ndf_recall.append(scores[1][0])\n",
    "    acc.append((scores[1][1]*scores[3][1]+scores[1][0]*scores[3][0])/(scores[3][0]+scores[3][1]))\n",
    "    # check if ndf crosses df\n",
    "    if eq_i==-1 and ndf_recall[-1]<df_recall[-1]: eq_i=i\n",
    "print(len(trsh))"
   ]
  },
  {
   "cell_type": "code",
   "execution_count": 38,
   "metadata": {},
   "outputs": [
    {
     "data": {
      "image/png": "[encoded data removed]",
      "text/plain": [
       "<Figure size 432x288 with 1 Axes>"
      ]
     },
     "metadata": {
      "needs_background": "light"
     },
     "output_type": "display_data"
    }
   ],
   "source": [
    "from sklearn.metrics import precision_recall_fscore_support\n",
    "\n",
    "trsh=[0]\n",
    "acc=[0]\n",
    "df_recall=[1]\n",
    "ndf_recall=[0]\n",
    "eq_i=-1 #Stores point of intersect of DF and NDF Recall curves\n",
    "\n",
    "for i in range(0,100):\n",
    "    trsh.append(i/100) \n",
    "    loan_status = preds_df['prob_default'].apply(lambda x: 1 if x > i/100 else 0)\n",
    "    scores=precision_recall_fscore_support(y_test,loan_status)\n",
    "    df_recall.append(scores[1][1])\n",
    "    ndf_recall.append(scores[1][0])\n",
    "    acc.append((scores[1][1]*scores[3][1]+scores[1][0]*scores[3][0])/(scores[3][0]+scores[3][1]))\n",
    "    # check if ndf crosses df\n",
    "    if eq_i==-1 and ndf_recall[i]>df_recall[i]: eq_i=i\n",
    "        \n",
    "max_acc_i=np.argmax(acc)\n",
    "ticks=np.linspace(0,1,11).tolist()\n",
    "plt.plot(trsh,df_recall,color='blue')\n",
    "plt.plot(trsh,ndf_recall,color='green')\n",
    "plt.plot(trsh,acc,color='red')\n",
    "plt.xlabel(\"Probability Threshold\")\n",
    "plt.xticks(ticks)\n",
    "plt.legend([\"Default Recall\",\"Non-default Recall\",\"Model Accuracy\"])\n",
    "\n",
    "x = [eq_i/100,max_acc_i/100,max_acc_i/100,max_acc_i/100]\n",
    "y = [acc[eq_i],acc[max_acc_i], df_recall[max_acc_i],ndf_recall[max_acc_i]]\n",
    "\n",
    "plt.vlines(x[0:2], 0, [y[0], max(y)], linestyle=\"dashed\")\n",
    "plt.hlines(y, 0, x, linestyle=\"dashed\")\n",
    "plt.scatter(x, y, zorder=2)\n",
    "\n",
    "plt.xlim(0,None)\n",
    "plt.ylim(0,None)\n",
    "\n",
    "for i_x, i_y in zip(x, y):\n",
    "    plt.text(i_x+0.02, i_y+0.02, '({:.2f}, {:.2f})'.format(i_x, i_y))\n",
    "\n",
    "plt.show()"
   ]
  },
  {
   "cell_type": "markdown",
   "metadata": {},
   "source": [
    "Default recall is equal to nondefault recall when threshold is 0.27.\n",
    "This poses two problems: \n",
    "1. the 'equilibrium' recall of 0.69 is quite low. The model will fail to predict 31% of defaults correctly. This may lead to substantiall losses (which we will address below)\n",
    "2. the 'equilibrium' threshold of 0.27 is very low. It suggests that the loan application should be considered as a high-risk if probability of default is 27%.\n",
    "\n",
    "Note that accuracy is maxed at threshold value of 0.43. But chosing this threshold results in a very low default recall of 0.38, which possibly makes this point not an obvious candidate for the modelling.<br>\n",
    "[[to top]](#top)"
   ]
  },
  {
   "cell_type": "markdown",
   "metadata": {},
   "source": [
    "## Business Case <a class=\"anchor\" id=\"business-case\"></a>\n",
    "Let us use model with a threshold of 0.27 on a test set and run a simple cost-benefit analysis. Since loan duration data is not available in the sample, let us assume that all loans have maturity of 10 years. Assume also that the future discounts at 2%\n",
    "\n",
    "First let us calculate gains and losses from doing nothing As such, assume that all non-default loans in the test sample will be ammortized equally over 10 years and a corresponding interest will be paid on the outstanding amount. Assume further that all defaulted loans in the test sample default immediately and no debt is recovered."
   ]
  },
  {
   "cell_type": "code",
   "execution_count": 13,
   "metadata": {},
   "outputs": [
    {
     "name": "stdout",
     "output_type": "stream",
     "text": [
      "Expected net profit without model-induced decision-making is 19.7M\n"
     ]
    }
   ],
   "source": [
    "X_test1=X_test.reset_index()\n",
    "y_test1=y_test.reset_index()\n",
    "data_test=pd.concat([X_test1,y_test1],axis=1)\n",
    "\n",
    "def revenue(amt, loan_int):\n",
    "    revenue=0\n",
    "    for i in range(10):\n",
    "        revenue+=(1-i/10)*amt*loan_int*0.01/(1.02**i)\n",
    "    return(revenue)\n",
    "\n",
    "data_test['revenue']=-data_test['loan_amnt']*data_test['loan_status']\\\n",
    "+(1-data_test['loan_status'])*revenue(data_test['loan_amnt'], data_test['loan_int_rate'])\n",
    "\n",
    "print('Expected net profit without model-induced decision-making is {:.1f}M'\n",
    "      .format(0.000001*data_test['revenue'].sum()))"
   ]
  },
  {
   "cell_type": "markdown",
   "metadata": {},
   "source": [
    "Hence, if a predictive model is not used, a firm wil make 19.6M profit if it approves all the loans.\n",
    "\n",
    "Suppose we apply model based on the threshold of 0.27.\n",
    "There are three possible outcomes depicted by the following tree:\n",
    "\n",
    "Loan is approved? YES Creditor defaults? YES Loan amount is lost<br>\n",
    "Loan is approved? YES Creditor defaults? NO Interest revenue received<br>\n",
    "Loan is approved? NO Zero revenue is received<br>\n",
    "                    \n",
    "Loan is approved if no default is expected (predicted probability of default is less that threshold) and is rejected otherwise.\n",
    "Creditor defaults if true 'loan_status' is 1 and does not default otherwise.\n",
    "\n",
    "Let us model this on the test data"
   ]
  },
  {
   "cell_type": "code",
   "execution_count": 14,
   "metadata": {
    "scrolled": true
   },
   "outputs": [
    {
     "name": "stdout",
     "output_type": "stream",
     "text": [
      "Expected net profit without model-induced decision-making is 24.4M\n"
     ]
    }
   ],
   "source": [
    "threshold=0.27\n",
    "\n",
    "def pred_net_profit (model, X_tst, thrsh, revenue):\n",
    "    preds_df=predict(model,X_tst,thrsh) \n",
    "    df=pd.concat([revenue, preds_df['loan_status']],axis=1)\n",
    "    return (0.000001*((1-preds_df['loan_status'])*revenue).sum())\n",
    "\n",
    "print('Expected net profit with non-optimized model-induced decision-making is {:.1f}M'\n",
    "      .format(pred_net_profit(ldm, X_test, threshold, data_test['revenue'])))\n"
   ]
  },
  {
   "cell_type": "markdown",
   "metadata": {},
   "source": [
    "Even on a model with as low default/nondefault recall of 0.69, a firm will increase its profit by almost 25%.\n",
    "\n",
    "One may wonder what would be a threshold level that maximizes profit. \n",
    "An important reservation exists here.\n",
    "This will depend on the future data, which may or may not have the same data structure as train data. Using test data to predict future performance is not, therefore, justified.\n",
    "\n",
    "We may investigate, however, what is the threshold level that maximizes profit on test data."
   ]
  },
  {
   "cell_type": "code",
   "execution_count": 15,
   "metadata": {},
   "outputs": [
    {
     "data": {
      "image/png": "[encoded data removed]",
      "text/plain": [
       "<Figure size 432x288 with 1 Axes>"
      ]
     },
     "metadata": {
      "needs_background": "light"
     },
     "output_type": "display_data"
    },
    {
     "name": "stdout",
     "output_type": "stream",
     "text": [
      "Maximum net profit of 29.4M on test set is achieved when using threshold value of 0.40\n"
     ]
    }
   ],
   "source": [
    "trsh=[]\n",
    "net_prof=[]\n",
    "for i in range(0,100): \n",
    "    net_prof.append(pred_net_profit(ldm, X_test, i/100, data_test['revenue']))\n",
    "    trsh.append(i/100)\n",
    "    \n",
    "max_np_i=np.argmax(net_prof)\n",
    "\n",
    "ticks=np.linspace(0,1,11).tolist()\n",
    "plt.plot(trsh,net_prof)\n",
    "x=max_np_i/100\n",
    "y=net_prof[max_np_i]\n",
    "plt.vlines(x, 0, y, linestyle=\"dashed\")\n",
    "plt.hlines(y, 0, x, linestyle=\"dashed\")\n",
    "plt.xlabel(\"Probability Threshold\")\n",
    "plt.ylabel(\"Net profit, M\")\n",
    "plt.xticks(ticks)\n",
    "plt.text(x+0.02, y+0.02, '({:.2f}, {:.1f})'.format(x, y))\n",
    "plt.xlim(0,None)\n",
    "plt.ylim(0,None)\n",
    "\n",
    "plt.show()\n",
    "\n",
    "print('Maximum net profit of {:.1f}M on test set is achieved when using threshold value of {:.2f}'\n",
    "      .format(net_prof[max_np_i],max_np_i/100))\n"
   ]
  },
  {
   "cell_type": "markdown",
   "metadata": {},
   "source": [
    "Interestingly, a threshold value maximizing net profits (0.4) is very close to the threshold value maximizing accuracy (0.43).\n",
    "\n",
    "When used on the test data, model-induced decision making may increase net profit from loans by 50%  (from 19.6 to 29.4M) as compared to current decision-making guidelines (which is an equivalent of using threshold value 1.0).\n",
    "Note that a non-conservative approach that uses threshold value above approximately 0.7 will be as good (as bad?) as a current decision-making approach.\n",
    "\n",
    "The exact order of magintude however is sensitive to the assumptions on the duration of the non-defaulting loans which we assumed equal to 10 years uniformely."
   ]
  },
  {
   "cell_type": "markdown",
   "metadata": {},
   "source": [
    "[[to top]](#top)"
   ]
  }
 ],
 "metadata": {
  "kernelspec": {
   "display_name": "Python 3",
   "language": "python",
   "name": "python3"
  },
  "language_info": {
   "codemirror_mode": {
    "name": "ipython",
    "version": 3
   },
   "file_extension": ".py",
   "mimetype": "text/x-python",
   "name": "python",
   "nbconvert_exporter": "python",
   "pygments_lexer": "ipython3",
   "version": "3.7.3"
  },
  "toc-autonumbering": false,
  "toc-showcode": false,
  "toc-showmarkdowntxt": false,
  "toc-showtags": false
 },
 "nbformat": 4,
 "nbformat_minor": 4
}
